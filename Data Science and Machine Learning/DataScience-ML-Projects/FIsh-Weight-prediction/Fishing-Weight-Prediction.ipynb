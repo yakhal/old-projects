{
 "cells": [
  {
   "cell_type": "code",
   "execution_count": 238,
   "metadata": {},
   "outputs": [],
   "source": [
    "# Loading Libraries\n",
    "import pandas as pd\n",
    "import numpy as np\n",
    "import matplotlib.pyplot as plt\n",
    "from sklearn.model_selection import train_test_split\n",
    "from sklearn.model_selection import StratifiedShuffleSplit\n",
    "import seaborn as sns"
   ]
  },
  {
   "cell_type": "markdown",
   "metadata": {},
   "source": [
    "## 1. Get the Data"
   ]
  },
  {
   "cell_type": "markdown",
   "metadata": {},
   "source": [
    "### 1.1 Loading into DataFrame"
   ]
  },
  {
   "cell_type": "code",
   "execution_count": 239,
   "metadata": {},
   "outputs": [
    {
     "data": {
      "text/html": [
       "<div>\n",
       "<style scoped>\n",
       "    .dataframe tbody tr th:only-of-type {\n",
       "        vertical-align: middle;\n",
       "    }\n",
       "\n",
       "    .dataframe tbody tr th {\n",
       "        vertical-align: top;\n",
       "    }\n",
       "\n",
       "    .dataframe thead th {\n",
       "        text-align: right;\n",
       "    }\n",
       "</style>\n",
       "<table border=\"1\" class=\"dataframe\">\n",
       "  <thead>\n",
       "    <tr style=\"text-align: right;\">\n",
       "      <th></th>\n",
       "      <th>Species</th>\n",
       "      <th>Weight</th>\n",
       "      <th>Length1</th>\n",
       "      <th>Length2</th>\n",
       "      <th>Length3</th>\n",
       "      <th>Height</th>\n",
       "      <th>Width</th>\n",
       "    </tr>\n",
       "  </thead>\n",
       "  <tbody>\n",
       "    <tr>\n",
       "      <th>0</th>\n",
       "      <td>Bream</td>\n",
       "      <td>242.0</td>\n",
       "      <td>23.2</td>\n",
       "      <td>25.4</td>\n",
       "      <td>30.0</td>\n",
       "      <td>11.5200</td>\n",
       "      <td>4.0200</td>\n",
       "    </tr>\n",
       "    <tr>\n",
       "      <th>1</th>\n",
       "      <td>Bream</td>\n",
       "      <td>290.0</td>\n",
       "      <td>24.0</td>\n",
       "      <td>26.3</td>\n",
       "      <td>31.2</td>\n",
       "      <td>12.4800</td>\n",
       "      <td>4.3056</td>\n",
       "    </tr>\n",
       "    <tr>\n",
       "      <th>2</th>\n",
       "      <td>Bream</td>\n",
       "      <td>340.0</td>\n",
       "      <td>23.9</td>\n",
       "      <td>26.5</td>\n",
       "      <td>31.1</td>\n",
       "      <td>12.3778</td>\n",
       "      <td>4.6961</td>\n",
       "    </tr>\n",
       "    <tr>\n",
       "      <th>3</th>\n",
       "      <td>Bream</td>\n",
       "      <td>363.0</td>\n",
       "      <td>26.3</td>\n",
       "      <td>29.0</td>\n",
       "      <td>33.5</td>\n",
       "      <td>12.7300</td>\n",
       "      <td>4.4555</td>\n",
       "    </tr>\n",
       "    <tr>\n",
       "      <th>4</th>\n",
       "      <td>Bream</td>\n",
       "      <td>430.0</td>\n",
       "      <td>26.5</td>\n",
       "      <td>29.0</td>\n",
       "      <td>34.0</td>\n",
       "      <td>12.4440</td>\n",
       "      <td>5.1340</td>\n",
       "    </tr>\n",
       "  </tbody>\n",
       "</table>\n",
       "</div>"
      ],
      "text/plain": [
       "  Species  Weight  Length1  Length2  Length3   Height   Width\n",
       "0   Bream   242.0     23.2     25.4     30.0  11.5200  4.0200\n",
       "1   Bream   290.0     24.0     26.3     31.2  12.4800  4.3056\n",
       "2   Bream   340.0     23.9     26.5     31.1  12.3778  4.6961\n",
       "3   Bream   363.0     26.3     29.0     33.5  12.7300  4.4555\n",
       "4   Bream   430.0     26.5     29.0     34.0  12.4440  5.1340"
      ]
     },
     "execution_count": 239,
     "metadata": {},
     "output_type": "execute_result"
    }
   ],
   "source": [
    "fish_data = pd.read_csv('data/fish-dataset.csv')\n",
    "fish_data.head()"
   ]
  },
  {
   "cell_type": "markdown",
   "metadata": {},
   "source": [
    "### 1.2 Take a Quick Look at the Data Structure and other stats"
   ]
  },
  {
   "cell_type": "code",
   "execution_count": 240,
   "metadata": {},
   "outputs": [
    {
     "name": "stdout",
     "output_type": "stream",
     "text": [
      "<class 'pandas.core.frame.DataFrame'>\n",
      "RangeIndex: 159 entries, 0 to 158\n",
      "Data columns (total 7 columns):\n",
      "Species    159 non-null object\n",
      "Weight     159 non-null float64\n",
      "Length1    159 non-null float64\n",
      "Length2    159 non-null float64\n",
      "Length3    159 non-null float64\n",
      "Height     159 non-null float64\n",
      "Width      159 non-null float64\n",
      "dtypes: float64(6), object(1)\n",
      "memory usage: 8.8+ KB\n"
     ]
    }
   ],
   "source": [
    "fish_data.info()"
   ]
  },
  {
   "cell_type": "code",
   "execution_count": 241,
   "metadata": {},
   "outputs": [
    {
     "data": {
      "text/html": [
       "<div>\n",
       "<style scoped>\n",
       "    .dataframe tbody tr th:only-of-type {\n",
       "        vertical-align: middle;\n",
       "    }\n",
       "\n",
       "    .dataframe tbody tr th {\n",
       "        vertical-align: top;\n",
       "    }\n",
       "\n",
       "    .dataframe thead th {\n",
       "        text-align: right;\n",
       "    }\n",
       "</style>\n",
       "<table border=\"1\" class=\"dataframe\">\n",
       "  <thead>\n",
       "    <tr style=\"text-align: right;\">\n",
       "      <th></th>\n",
       "      <th>Weight</th>\n",
       "      <th>Length1</th>\n",
       "      <th>Length2</th>\n",
       "      <th>Length3</th>\n",
       "      <th>Height</th>\n",
       "      <th>Width</th>\n",
       "    </tr>\n",
       "  </thead>\n",
       "  <tbody>\n",
       "    <tr>\n",
       "      <th>count</th>\n",
       "      <td>159.000000</td>\n",
       "      <td>159.000000</td>\n",
       "      <td>159.000000</td>\n",
       "      <td>159.000000</td>\n",
       "      <td>159.000000</td>\n",
       "      <td>159.000000</td>\n",
       "    </tr>\n",
       "    <tr>\n",
       "      <th>mean</th>\n",
       "      <td>398.326415</td>\n",
       "      <td>26.247170</td>\n",
       "      <td>28.415723</td>\n",
       "      <td>31.227044</td>\n",
       "      <td>8.970994</td>\n",
       "      <td>4.417486</td>\n",
       "    </tr>\n",
       "    <tr>\n",
       "      <th>std</th>\n",
       "      <td>357.978317</td>\n",
       "      <td>9.996441</td>\n",
       "      <td>10.716328</td>\n",
       "      <td>11.610246</td>\n",
       "      <td>4.286208</td>\n",
       "      <td>1.685804</td>\n",
       "    </tr>\n",
       "    <tr>\n",
       "      <th>min</th>\n",
       "      <td>0.000000</td>\n",
       "      <td>7.500000</td>\n",
       "      <td>8.400000</td>\n",
       "      <td>8.800000</td>\n",
       "      <td>1.728400</td>\n",
       "      <td>1.047600</td>\n",
       "    </tr>\n",
       "    <tr>\n",
       "      <th>25%</th>\n",
       "      <td>120.000000</td>\n",
       "      <td>19.050000</td>\n",
       "      <td>21.000000</td>\n",
       "      <td>23.150000</td>\n",
       "      <td>5.944800</td>\n",
       "      <td>3.385650</td>\n",
       "    </tr>\n",
       "    <tr>\n",
       "      <th>50%</th>\n",
       "      <td>273.000000</td>\n",
       "      <td>25.200000</td>\n",
       "      <td>27.300000</td>\n",
       "      <td>29.400000</td>\n",
       "      <td>7.786000</td>\n",
       "      <td>4.248500</td>\n",
       "    </tr>\n",
       "    <tr>\n",
       "      <th>75%</th>\n",
       "      <td>650.000000</td>\n",
       "      <td>32.700000</td>\n",
       "      <td>35.500000</td>\n",
       "      <td>39.650000</td>\n",
       "      <td>12.365900</td>\n",
       "      <td>5.584500</td>\n",
       "    </tr>\n",
       "    <tr>\n",
       "      <th>max</th>\n",
       "      <td>1650.000000</td>\n",
       "      <td>59.000000</td>\n",
       "      <td>63.400000</td>\n",
       "      <td>68.000000</td>\n",
       "      <td>18.957000</td>\n",
       "      <td>8.142000</td>\n",
       "    </tr>\n",
       "  </tbody>\n",
       "</table>\n",
       "</div>"
      ],
      "text/plain": [
       "            Weight     Length1     Length2     Length3      Height       Width\n",
       "count   159.000000  159.000000  159.000000  159.000000  159.000000  159.000000\n",
       "mean    398.326415   26.247170   28.415723   31.227044    8.970994    4.417486\n",
       "std     357.978317    9.996441   10.716328   11.610246    4.286208    1.685804\n",
       "min       0.000000    7.500000    8.400000    8.800000    1.728400    1.047600\n",
       "25%     120.000000   19.050000   21.000000   23.150000    5.944800    3.385650\n",
       "50%     273.000000   25.200000   27.300000   29.400000    7.786000    4.248500\n",
       "75%     650.000000   32.700000   35.500000   39.650000   12.365900    5.584500\n",
       "max    1650.000000   59.000000   63.400000   68.000000   18.957000    8.142000"
      ]
     },
     "execution_count": 241,
     "metadata": {},
     "output_type": "execute_result"
    }
   ],
   "source": [
    "fish_data.describe()"
   ]
  },
  {
   "cell_type": "code",
   "execution_count": 242,
   "metadata": {},
   "outputs": [
    {
     "data": {
      "text/plain": [
       "Perch        56\n",
       "Bream        35\n",
       "Roach        20\n",
       "Pike         17\n",
       "Smelt        14\n",
       "Parkki       11\n",
       "Whitefish     6\n",
       "Name: Species, dtype: int64"
      ]
     },
     "execution_count": 242,
     "metadata": {},
     "output_type": "execute_result"
    }
   ],
   "source": [
    "# Counting species\n",
    "fish_data.Species.value_counts()"
   ]
  },
  {
   "cell_type": "markdown",
   "metadata": {},
   "source": [
    "#### Visualizing Numerical attributes|"
   ]
  },
  {
   "cell_type": "code",
   "execution_count": 243,
   "metadata": {},
   "outputs": [
    {
     "data": {
      "image/png": "[encoded data removed]",
      "text/plain": [
       "<Figure size 720x720 with 6 Axes>"
      ]
     },
     "metadata": {
      "needs_background": "light"
     },
     "output_type": "display_data"
    }
   ],
   "source": [
    "fish_data.drop('Species', axis=1).hist(figsize=(10, 10))\n",
    "plt.show()"
   ]
  },
  {
   "cell_type": "markdown",
   "metadata": {},
   "source": [
    "#### Observations\n",
    "- CGS units are used\n",
    "- Species is categorical and rest of them numerical\n",
    "- Target is weight of the fish\n",
    "- Graphs of weight is skewed\n",
    "- Length1, Length2, Length3 graphs are similar\n",
    "- Weight and height graphs are similar"
   ]
  },
  {
   "cell_type": "markdown",
   "metadata": {},
   "source": [
    "### 1.3 Creating a test set\n",
    "- We will create a test_set by stratifying labels"
   ]
  },
  {
   "cell_type": "code",
   "execution_count": 244,
   "metadata": {},
   "outputs": [],
   "source": [
    "split = StratifiedShuffleSplit(n_splits=1,\n",
    "                              test_size=0.2,\n",
    "                              random_state=3)\n",
    "\n",
    "for train_index, test_index in split.split(fish_data, fish_data['Species']):\n",
    "    train_set = fish_data.loc[train_index]\n",
    "    test_set= fish_data.loc[test_index]"
   ]
  },
  {
   "cell_type": "code",
   "execution_count": 245,
   "metadata": {},
   "outputs": [
    {
     "data": {
      "text/plain": [
       "Perch        0.354331\n",
       "Bream        0.220472\n",
       "Roach        0.125984\n",
       "Pike         0.102362\n",
       "Smelt        0.086614\n",
       "Parkki       0.070866\n",
       "Whitefish    0.039370\n",
       "Name: Species, dtype: float64"
      ]
     },
     "metadata": {},
     "output_type": "display_data"
    },
    {
     "data": {
      "text/plain": [
       "Perch        0.34375\n",
       "Bream        0.21875\n",
       "Roach        0.12500\n",
       "Pike         0.12500\n",
       "Smelt        0.09375\n",
       "Parkki       0.06250\n",
       "Whitefish    0.03125\n",
       "Name: Species, dtype: float64"
      ]
     },
     "metadata": {},
     "output_type": "display_data"
    }
   ],
   "source": [
    "## Cross-checking the equal divisions of groups\n",
    "display(train_set.Species.value_counts()/train_set.shape[0])\n",
    "display(test_set.Species.value_counts()/test_set.shape[0])"
   ]
  },
  {
   "cell_type": "markdown",
   "metadata": {},
   "source": [
    "## 2. Discover and Visualize the Data to Gain Insights"
   ]
  },
  {
   "cell_type": "code",
   "execution_count": 246,
   "metadata": {},
   "outputs": [],
   "source": [
    "# Make sure inorder to experiment few things you copy the data into another dataframe\n",
    "\n",
    "fish = train_set.copy()"
   ]
  },
  {
   "cell_type": "markdown",
   "metadata": {},
   "source": [
    "### 2.1 Visualizing Numerical Features\n",
    "- Pairplot\n",
    "- Heatmap\n",
    "- Categorical Feature visualizing"
   ]
  },
  {
   "cell_type": "code",
   "execution_count": 247,
   "metadata": {},
   "outputs": [
    {
     "data": {
      "text/plain": [
       "<seaborn.axisgrid.PairGrid at 0x7f5ee99c4b70>"
      ]
     },
     "execution_count": 247,
     "metadata": {},
     "output_type": "execute_result"
    },
    {
     "data": {
      "image/png": "[encoded data removed]",
      "text/plain": [
       "<Figure size 1163.25x1080 with 42 Axes>"
      ]
     },
     "metadata": {
      "needs_background": "light"
     },
     "output_type": "display_data"
    }
   ],
   "source": [
    "# PairPlot\n",
    "\n",
    "sns.pairplot(fish, hue='Species')"
   ]
  },
  {
   "cell_type": "code",
   "execution_count": 248,
   "metadata": {},
   "outputs": [
    {
     "data": {
      "text/plain": [
       "Weight     1.000000\n",
       "Length3    0.918862\n",
       "Length2    0.912630\n",
       "Length1    0.908836\n",
       "Width      0.892474\n",
       "Height     0.737894\n",
       "Name: Weight, dtype: float64"
      ]
     },
     "execution_count": 248,
     "metadata": {},
     "output_type": "execute_result"
    }
   ],
   "source": [
    "# Correlation of input features with the target variable (Weight)\n",
    "\n",
    "fish.corr()['Weight'].sort_values(ascending=False)"
   ]
  },
  {
   "cell_type": "code",
   "execution_count": 249,
   "metadata": {},
   "outputs": [
    {
     "data": {
      "image/png": "[encoded data removed]",
      "text/plain": [
       "<Figure size 720x576 with 2 Axes>"
      ]
     },
     "metadata": {
      "needs_background": "light"
     },
     "output_type": "display_data"
    }
   ],
   "source": [
    "# Heatmap of correlation\n",
    "plt.figure(figsize=(10, 8))\n",
    "sns.heatmap(fish.corr(), linewidths=0.5)\n",
    "plt.show()"
   ]
  },
  {
   "cell_type": "markdown",
   "metadata": {},
   "source": [
    "### 2.2 Visualizing categorical variables\n"
   ]
  },
  {
   "cell_type": "code",
   "execution_count": 250,
   "metadata": {},
   "outputs": [
    {
     "data": {
      "text/plain": [
       "<BarContainer object of 7 artists>"
      ]
     },
     "execution_count": 250,
     "metadata": {},
     "output_type": "execute_result"
    },
    {
     "data": {
      "image/png": "[encoded data removed]",
      "text/plain": [
       "<Figure size 432x288 with 1 Axes>"
      ]
     },
     "metadata": {
      "needs_background": "light"
     },
     "output_type": "display_data"
    }
   ],
   "source": [
    "# Using matplotlib\n",
    "species = fish['Species'].value_counts()\n",
    "plt.bar(species.index, species)"
   ]
  },
  {
   "cell_type": "code",
   "execution_count": 251,
   "metadata": {},
   "outputs": [
    {
     "data": {
      "text/plain": [
       "<matplotlib.axes._subplots.AxesSubplot at 0x7f5eeb37cf28>"
      ]
     },
     "execution_count": 251,
     "metadata": {},
     "output_type": "execute_result"
    },
    {
     "data": {
      "image/png": "[encoded data removed]",
      "text/plain": [
       "<Figure size 432x288 with 1 Axes>"
      ]
     },
     "metadata": {
      "needs_background": "light"
     },
     "output_type": "display_data"
    }
   ],
   "source": [
    "# Alternate way using seaborn\n",
    "sns.countplot(x=fish['Species'])"
   ]
  },
  {
   "cell_type": "markdown",
   "metadata": {},
   "source": [
    "#### Observations\n",
    "- Most promising features are Length(1/2/3)"
   ]
  },
  {
   "cell_type": "markdown",
   "metadata": {},
   "source": [
    "### 2.3 Experimenting with attributes combination"
   ]
  },
  {
   "cell_type": "code",
   "execution_count": 252,
   "metadata": {},
   "outputs": [
    {
     "data": {
      "text/html": [
       "<div>\n",
       "<style scoped>\n",
       "    .dataframe tbody tr th:only-of-type {\n",
       "        vertical-align: middle;\n",
       "    }\n",
       "\n",
       "    .dataframe tbody tr th {\n",
       "        vertical-align: top;\n",
       "    }\n",
       "\n",
       "    .dataframe thead th {\n",
       "        text-align: right;\n",
       "    }\n",
       "</style>\n",
       "<table border=\"1\" class=\"dataframe\">\n",
       "  <thead>\n",
       "    <tr style=\"text-align: right;\">\n",
       "      <th></th>\n",
       "      <th>Species</th>\n",
       "      <th>Weight</th>\n",
       "      <th>Length1</th>\n",
       "      <th>Length2</th>\n",
       "      <th>Length3</th>\n",
       "      <th>Height</th>\n",
       "      <th>Width</th>\n",
       "    </tr>\n",
       "  </thead>\n",
       "  <tbody>\n",
       "    <tr>\n",
       "      <th>127</th>\n",
       "      <td>Perch</td>\n",
       "      <td>1000.0</td>\n",
       "      <td>41.1</td>\n",
       "      <td>44.0</td>\n",
       "      <td>46.6</td>\n",
       "      <td>12.4888</td>\n",
       "      <td>7.5958</td>\n",
       "    </tr>\n",
       "    <tr>\n",
       "      <th>58</th>\n",
       "      <td>Whitefish</td>\n",
       "      <td>540.0</td>\n",
       "      <td>28.5</td>\n",
       "      <td>31.0</td>\n",
       "      <td>34.0</td>\n",
       "      <td>10.7440</td>\n",
       "      <td>6.5620</td>\n",
       "    </tr>\n",
       "    <tr>\n",
       "      <th>102</th>\n",
       "      <td>Perch</td>\n",
       "      <td>300.0</td>\n",
       "      <td>25.2</td>\n",
       "      <td>27.3</td>\n",
       "      <td>28.7</td>\n",
       "      <td>8.3230</td>\n",
       "      <td>5.1373</td>\n",
       "    </tr>\n",
       "    <tr>\n",
       "      <th>144</th>\n",
       "      <td>Pike</td>\n",
       "      <td>1650.0</td>\n",
       "      <td>59.0</td>\n",
       "      <td>63.4</td>\n",
       "      <td>68.0</td>\n",
       "      <td>10.8120</td>\n",
       "      <td>7.4800</td>\n",
       "    </tr>\n",
       "    <tr>\n",
       "      <th>81</th>\n",
       "      <td>Perch</td>\n",
       "      <td>85.0</td>\n",
       "      <td>18.2</td>\n",
       "      <td>20.0</td>\n",
       "      <td>21.0</td>\n",
       "      <td>5.0820</td>\n",
       "      <td>2.7720</td>\n",
       "    </tr>\n",
       "  </tbody>\n",
       "</table>\n",
       "</div>"
      ],
      "text/plain": [
       "       Species  Weight  Length1  Length2  Length3   Height   Width\n",
       "127      Perch  1000.0     41.1     44.0     46.6  12.4888  7.5958\n",
       "58   Whitefish   540.0     28.5     31.0     34.0  10.7440  6.5620\n",
       "102      Perch   300.0     25.2     27.3     28.7   8.3230  5.1373\n",
       "144       Pike  1650.0     59.0     63.4     68.0  10.8120  7.4800\n",
       "81       Perch    85.0     18.2     20.0     21.0   5.0820  2.7720"
      ]
     },
     "execution_count": 252,
     "metadata": {},
     "output_type": "execute_result"
    }
   ],
   "source": [
    "fish.head()"
   ]
  },
  {
   "cell_type": "code",
   "execution_count": 253,
   "metadata": {},
   "outputs": [
    {
     "data": {
      "text/html": [
       "<div>\n",
       "<style scoped>\n",
       "    .dataframe tbody tr th:only-of-type {\n",
       "        vertical-align: middle;\n",
       "    }\n",
       "\n",
       "    .dataframe tbody tr th {\n",
       "        vertical-align: top;\n",
       "    }\n",
       "\n",
       "    .dataframe thead th {\n",
       "        text-align: right;\n",
       "    }\n",
       "</style>\n",
       "<table border=\"1\" class=\"dataframe\">\n",
       "  <thead>\n",
       "    <tr style=\"text-align: right;\">\n",
       "      <th></th>\n",
       "      <th>Species</th>\n",
       "      <th>Weight</th>\n",
       "      <th>Length1</th>\n",
       "      <th>Length2</th>\n",
       "      <th>Length3</th>\n",
       "      <th>Height</th>\n",
       "      <th>Width</th>\n",
       "      <th>Height*Width</th>\n",
       "    </tr>\n",
       "  </thead>\n",
       "  <tbody>\n",
       "    <tr>\n",
       "      <th>127</th>\n",
       "      <td>Perch</td>\n",
       "      <td>1000.0</td>\n",
       "      <td>41.1</td>\n",
       "      <td>44.0</td>\n",
       "      <td>46.6</td>\n",
       "      <td>12.4888</td>\n",
       "      <td>7.5958</td>\n",
       "      <td>94.862427</td>\n",
       "    </tr>\n",
       "    <tr>\n",
       "      <th>58</th>\n",
       "      <td>Whitefish</td>\n",
       "      <td>540.0</td>\n",
       "      <td>28.5</td>\n",
       "      <td>31.0</td>\n",
       "      <td>34.0</td>\n",
       "      <td>10.7440</td>\n",
       "      <td>6.5620</td>\n",
       "      <td>70.502128</td>\n",
       "    </tr>\n",
       "    <tr>\n",
       "      <th>102</th>\n",
       "      <td>Perch</td>\n",
       "      <td>300.0</td>\n",
       "      <td>25.2</td>\n",
       "      <td>27.3</td>\n",
       "      <td>28.7</td>\n",
       "      <td>8.3230</td>\n",
       "      <td>5.1373</td>\n",
       "      <td>42.757748</td>\n",
       "    </tr>\n",
       "    <tr>\n",
       "      <th>144</th>\n",
       "      <td>Pike</td>\n",
       "      <td>1650.0</td>\n",
       "      <td>59.0</td>\n",
       "      <td>63.4</td>\n",
       "      <td>68.0</td>\n",
       "      <td>10.8120</td>\n",
       "      <td>7.4800</td>\n",
       "      <td>80.873760</td>\n",
       "    </tr>\n",
       "    <tr>\n",
       "      <th>81</th>\n",
       "      <td>Perch</td>\n",
       "      <td>85.0</td>\n",
       "      <td>18.2</td>\n",
       "      <td>20.0</td>\n",
       "      <td>21.0</td>\n",
       "      <td>5.0820</td>\n",
       "      <td>2.7720</td>\n",
       "      <td>14.087304</td>\n",
       "    </tr>\n",
       "  </tbody>\n",
       "</table>\n",
       "</div>"
      ],
      "text/plain": [
       "       Species  Weight  Length1  Length2  Length3   Height   Width  \\\n",
       "127      Perch  1000.0     41.1     44.0     46.6  12.4888  7.5958   \n",
       "58   Whitefish   540.0     28.5     31.0     34.0  10.7440  6.5620   \n",
       "102      Perch   300.0     25.2     27.3     28.7   8.3230  5.1373   \n",
       "144       Pike  1650.0     59.0     63.4     68.0  10.8120  7.4800   \n",
       "81       Perch    85.0     18.2     20.0     21.0   5.0820  2.7720   \n",
       "\n",
       "     Height*Width  \n",
       "127     94.862427  \n",
       "58      70.502128  \n",
       "102     42.757748  \n",
       "144     80.873760  \n",
       "81      14.087304  "
      ]
     },
     "execution_count": 253,
     "metadata": {},
     "output_type": "execute_result"
    }
   ],
   "source": [
    "# Trying out Weight/Other lengths\n",
    "\n",
    "fish['Height*Width'] = fish['Height']*fish['Width']\n",
    "fish.head()"
   ]
  },
  {
   "cell_type": "code",
   "execution_count": 254,
   "metadata": {},
   "outputs": [
    {
     "data": {
      "text/plain": [
       "<matplotlib.axes._subplots.AxesSubplot at 0x7f5eeb3f4ac8>"
      ]
     },
     "execution_count": 254,
     "metadata": {},
     "output_type": "execute_result"
    },
    {
     "data": {
      "image/png": "[encoded data removed]",
      "text/plain": [
       "<Figure size 720x576 with 2 Axes>"
      ]
     },
     "metadata": {
      "needs_background": "light"
     },
     "output_type": "display_data"
    }
   ],
   "source": [
    "# Plotting Heatmap\n",
    "\n",
    "plt.figure(figsize=(10, 8))\n",
    "sns.heatmap(fish.corr(), linewidths=0.5)"
   ]
  },
  {
   "cell_type": "code",
   "execution_count": 255,
   "metadata": {},
   "outputs": [
    {
     "name": "stdout",
     "output_type": "stream",
     "text": [
      "Weight          1.000000\n",
      "Length3         0.918862\n",
      "Length2         0.912630\n",
      "Length1         0.908836\n",
      "Width           0.892474\n",
      "Height*Width    0.865144\n",
      "Height          0.737894\n",
      "Name: Weight, dtype: float64\n"
     ]
    },
    {
     "data": {
      "text/plain": [
       "<matplotlib.axes._subplots.AxesSubplot at 0x7f5eeb1ef940>"
      ]
     },
     "execution_count": 255,
     "metadata": {},
     "output_type": "execute_result"
    },
    {
     "data": {
      "image/png": "[encoded data removed]",
      "text/plain": [
       "<Figure size 432x288 with 1 Axes>"
      ]
     },
     "metadata": {
      "needs_background": "light"
     },
     "output_type": "display_data"
    }
   ],
   "source": [
    "print(fish.corr()['Weight'].sort_values(ascending=False))\n",
    "fish.plot(kind='scatter', x= 'Height*Width', y='Weight')"
   ]
  },
  {
   "cell_type": "markdown",
   "metadata": {},
   "source": [
    "#### Observations\n",
    "- Turns out, Weight/Other lengths are more promising for predictions"
   ]
  },
  {
   "cell_type": "code",
   "execution_count": 256,
   "metadata": {},
   "outputs": [],
   "source": [
    "## Putting the fish df data back as it was before\n",
    "fish.drop('Height*Width', axis=1, inplace=True)"
   ]
  },
  {
   "cell_type": "markdown",
   "metadata": {},
   "source": [
    "## 3. Prepare the Data for ML Algorithms"
   ]
  },
  {
   "cell_type": "markdown",
   "metadata": {},
   "source": [
    "### 3.1 Data Cleaning\n",
    "\n",
    "- As there are null values and very few outliers, this step is skipped for this project"
   ]
  },
  {
   "cell_type": "code",
   "execution_count": 257,
   "metadata": {},
   "outputs": [],
   "source": [
    "# Defining all Features (categorical or Numerical) and Targets\n",
    "DATASET_NUM_FEATURES = ['Length1', 'Length2', 'Length3', 'Height', 'Width']\n",
    "DATASET_CAT_FEATURES = ['Species']\n",
    "DATASET_FEATURES = DATASET_NUM_FEATURES + DATASET_CAT_FEATURES\n",
    "DATASET_TARGET = ['Weight']\n",
    "\n",
    "fish_num = fish[DATASET_NUM_FEATURES].copy()\n",
    "fish_cat = fish[DATASET_CAT_FEATURES].copy()\n",
    "fish_train = fish[DATASET_FEATURES]\n",
    "fish_labels = fish[DATASET_TARGET].copy()"
   ]
  },
  {
   "cell_type": "markdown",
   "metadata": {},
   "source": [
    "### 3.2 Handling categorical and text attributes\n",
    "- Perform OneHotEncoding on Species column"
   ]
  },
  {
   "cell_type": "code",
   "execution_count": 258,
   "metadata": {},
   "outputs": [],
   "source": [
    "# Experimenting with fish_cat to try out OneHotEncoder\n",
    "from sklearn.preprocessing import OneHotEncoder\n",
    "\n",
    "onehot = OneHotEncoder()\n",
    "\n",
    "fish_cat = onehot.fit_transform(fish_cat)"
   ]
  },
  {
   "cell_type": "code",
   "execution_count": 259,
   "metadata": {},
   "outputs": [
    {
     "data": {
      "text/html": [
       "<div>\n",
       "<style scoped>\n",
       "    .dataframe tbody tr th:only-of-type {\n",
       "        vertical-align: middle;\n",
       "    }\n",
       "\n",
       "    .dataframe tbody tr th {\n",
       "        vertical-align: top;\n",
       "    }\n",
       "\n",
       "    .dataframe thead th {\n",
       "        text-align: right;\n",
       "    }\n",
       "</style>\n",
       "<table border=\"1\" class=\"dataframe\">\n",
       "  <thead>\n",
       "    <tr style=\"text-align: right;\">\n",
       "      <th></th>\n",
       "      <th>Length1</th>\n",
       "      <th>Length2</th>\n",
       "      <th>Length3</th>\n",
       "      <th>Height</th>\n",
       "      <th>Width</th>\n",
       "    </tr>\n",
       "  </thead>\n",
       "  <tbody>\n",
       "    <tr>\n",
       "      <th>127</th>\n",
       "      <td>41.1</td>\n",
       "      <td>44.0</td>\n",
       "      <td>46.6</td>\n",
       "      <td>12.4888</td>\n",
       "      <td>7.5958</td>\n",
       "    </tr>\n",
       "    <tr>\n",
       "      <th>58</th>\n",
       "      <td>28.5</td>\n",
       "      <td>31.0</td>\n",
       "      <td>34.0</td>\n",
       "      <td>10.7440</td>\n",
       "      <td>6.5620</td>\n",
       "    </tr>\n",
       "    <tr>\n",
       "      <th>102</th>\n",
       "      <td>25.2</td>\n",
       "      <td>27.3</td>\n",
       "      <td>28.7</td>\n",
       "      <td>8.3230</td>\n",
       "      <td>5.1373</td>\n",
       "    </tr>\n",
       "    <tr>\n",
       "      <th>144</th>\n",
       "      <td>59.0</td>\n",
       "      <td>63.4</td>\n",
       "      <td>68.0</td>\n",
       "      <td>10.8120</td>\n",
       "      <td>7.4800</td>\n",
       "    </tr>\n",
       "    <tr>\n",
       "      <th>81</th>\n",
       "      <td>18.2</td>\n",
       "      <td>20.0</td>\n",
       "      <td>21.0</td>\n",
       "      <td>5.0820</td>\n",
       "      <td>2.7720</td>\n",
       "    </tr>\n",
       "  </tbody>\n",
       "</table>\n",
       "</div>"
      ],
      "text/plain": [
       "     Length1  Length2  Length3   Height   Width\n",
       "127     41.1     44.0     46.6  12.4888  7.5958\n",
       "58      28.5     31.0     34.0  10.7440  6.5620\n",
       "102     25.2     27.3     28.7   8.3230  5.1373\n",
       "144     59.0     63.4     68.0  10.8120  7.4800\n",
       "81      18.2     20.0     21.0   5.0820  2.7720"
      ]
     },
     "execution_count": 259,
     "metadata": {},
     "output_type": "execute_result"
    }
   ],
   "source": [
    "fish_cat.toarray()\n",
    "fish_num.head()"
   ]
  },
  {
   "cell_type": "markdown",
   "metadata": {},
   "source": [
    "### 3.3 Custom Transformer\n",
    "- Building a Transformer which adds extra features to the dataset"
   ]
  },
  {
   "cell_type": "code",
   "execution_count": 260,
   "metadata": {},
   "outputs": [],
   "source": [
    "# Building Transformer\n",
    "from sklearn.base import BaseEstimator, TransformerMixin\n",
    "\n",
    "class AttributesAdder(BaseEstimator, TransformerMixin):\n",
    "    def __init__(self, attribute_col, combine_with_col):\n",
    "        self.attribute_col = attribute_col\n",
    "        self.combine_with_col = combine_with_col\n",
    "    def fit(self, X, y=None):\n",
    "        return self\n",
    "    def transform(self, X):\n",
    "        for col in self.combine_with_col:\n",
    "            X = np.append(X, (X[:, self.attribute_col] * X[:, col]).reshape(-1,1), axis=1)\n",
    "        return X\n",
    "    \n",
    "            "
   ]
  },
  {
   "cell_type": "code",
   "execution_count": 261,
   "metadata": {},
   "outputs": [
    {
     "data": {
      "text/plain": [
       "array([[ 41.1       ,  44.        ,  46.6       ,  12.4888    ,\n",
       "          7.5958    ,  94.86242704],\n",
       "       [ 28.5       ,  31.        ,  34.        ,  10.744     ,\n",
       "          6.562     ,  70.502128  ],\n",
       "       [ 25.2       ,  27.3       ,  28.7       ,   8.323     ,\n",
       "          5.1373    ,  42.7577479 ],\n",
       "       [ 59.        ,  63.4       ,  68.        ,  10.812     ,\n",
       "          7.48      ,  80.87376   ],\n",
       "       [ 18.2       ,  20.        ,  21.        ,   5.082     ,\n",
       "          2.772     ,  14.087304  ],\n",
       "       [ 20.4       ,  22.        ,  24.7       ,   5.8045    ,\n",
       "          3.7544    ,  21.7924148 ],\n",
       "       [ 25.4       ,  27.5       ,  28.9       ,   7.0516    ,\n",
       "          4.335     ,  30.568686  ],\n",
       "       [ 38.        ,  41.        ,  46.5       ,  17.6235    ,\n",
       "          6.3705    , 112.27050675],\n",
       "       [ 29.5       ,  32.        ,  37.3       ,  13.9129    ,\n",
       "          5.0728    ,  70.57735912],\n",
       "       [ 26.9       ,  28.7       ,  30.1       ,   7.5852    ,\n",
       "          4.6354    ,  35.16043608]])"
      ]
     },
     "execution_count": 261,
     "metadata": {},
     "output_type": "execute_result"
    }
   ],
   "source": [
    "## Trying out Custom Transformer\n",
    "attr_adder = AttributesAdder(attribute_col=3, combine_with_col=(4,))\n",
    "sample = attr_adder.transform(fish_num.values)\n",
    "sample[:10]"
   ]
  },
  {
   "cell_type": "markdown",
   "metadata": {},
   "source": [
    "### 3.4 Feature Scaling"
   ]
  },
  {
   "cell_type": "code",
   "execution_count": 262,
   "metadata": {},
   "outputs": [
    {
     "data": {
      "text/html": [
       "<div>\n",
       "<style scoped>\n",
       "    .dataframe tbody tr th:only-of-type {\n",
       "        vertical-align: middle;\n",
       "    }\n",
       "\n",
       "    .dataframe tbody tr th {\n",
       "        vertical-align: top;\n",
       "    }\n",
       "\n",
       "    .dataframe thead th {\n",
       "        text-align: right;\n",
       "    }\n",
       "</style>\n",
       "<table border=\"1\" class=\"dataframe\">\n",
       "  <thead>\n",
       "    <tr style=\"text-align: right;\">\n",
       "      <th></th>\n",
       "      <th>Length1</th>\n",
       "      <th>Length2</th>\n",
       "      <th>Length3</th>\n",
       "      <th>Height</th>\n",
       "      <th>Width</th>\n",
       "    </tr>\n",
       "  </thead>\n",
       "  <tbody>\n",
       "    <tr>\n",
       "      <th>count</th>\n",
       "      <td>127.000000</td>\n",
       "      <td>127.000000</td>\n",
       "      <td>127.000000</td>\n",
       "      <td>127.000000</td>\n",
       "      <td>127.000000</td>\n",
       "    </tr>\n",
       "    <tr>\n",
       "      <th>mean</th>\n",
       "      <td>26.159055</td>\n",
       "      <td>28.337008</td>\n",
       "      <td>31.167717</td>\n",
       "      <td>8.996850</td>\n",
       "      <td>4.423856</td>\n",
       "    </tr>\n",
       "    <tr>\n",
       "      <th>std</th>\n",
       "      <td>9.472126</td>\n",
       "      <td>10.162457</td>\n",
       "      <td>11.068609</td>\n",
       "      <td>4.248501</td>\n",
       "      <td>1.632690</td>\n",
       "    </tr>\n",
       "    <tr>\n",
       "      <th>min</th>\n",
       "      <td>9.300000</td>\n",
       "      <td>9.800000</td>\n",
       "      <td>10.800000</td>\n",
       "      <td>1.738800</td>\n",
       "      <td>1.047600</td>\n",
       "    </tr>\n",
       "    <tr>\n",
       "      <th>25%</th>\n",
       "      <td>19.350000</td>\n",
       "      <td>21.150000</td>\n",
       "      <td>23.350000</td>\n",
       "      <td>6.110000</td>\n",
       "      <td>3.467700</td>\n",
       "    </tr>\n",
       "    <tr>\n",
       "      <th>50%</th>\n",
       "      <td>25.000000</td>\n",
       "      <td>27.000000</td>\n",
       "      <td>29.300000</td>\n",
       "      <td>7.786000</td>\n",
       "      <td>4.239000</td>\n",
       "    </tr>\n",
       "    <tr>\n",
       "      <th>75%</th>\n",
       "      <td>32.250000</td>\n",
       "      <td>35.000000</td>\n",
       "      <td>39.450000</td>\n",
       "      <td>12.153200</td>\n",
       "      <td>5.320200</td>\n",
       "    </tr>\n",
       "    <tr>\n",
       "      <th>max</th>\n",
       "      <td>59.000000</td>\n",
       "      <td>63.400000</td>\n",
       "      <td>68.000000</td>\n",
       "      <td>18.754200</td>\n",
       "      <td>8.142000</td>\n",
       "    </tr>\n",
       "  </tbody>\n",
       "</table>\n",
       "</div>"
      ],
      "text/plain": [
       "          Length1     Length2     Length3      Height       Width\n",
       "count  127.000000  127.000000  127.000000  127.000000  127.000000\n",
       "mean    26.159055   28.337008   31.167717    8.996850    4.423856\n",
       "std      9.472126   10.162457   11.068609    4.248501    1.632690\n",
       "min      9.300000    9.800000   10.800000    1.738800    1.047600\n",
       "25%     19.350000   21.150000   23.350000    6.110000    3.467700\n",
       "50%     25.000000   27.000000   29.300000    7.786000    4.239000\n",
       "75%     32.250000   35.000000   39.450000   12.153200    5.320200\n",
       "max     59.000000   63.400000   68.000000   18.754200    8.142000"
      ]
     },
     "execution_count": 262,
     "metadata": {},
     "output_type": "execute_result"
    }
   ],
   "source": [
    "fish_num.describe()"
   ]
  },
  {
   "cell_type": "code",
   "execution_count": 263,
   "metadata": {},
   "outputs": [
    {
     "data": {
      "text/plain": [
       "array([[ 1.5836062 ,  1.54736444,  1.39976048,  0.82518023,  1.95046595],\n",
       "       [ 0.24811917,  0.26307996,  0.25689772,  0.41286773,  1.3147701 ],\n",
       "       [-0.10165124, -0.10244716, -0.22383026, -0.15923713,  0.43870521],\n",
       "       [ 3.48084572,  3.46391206,  3.34081311,  0.42893676,  1.87925916],\n",
       "       [-0.84358848, -0.8236223 , -0.9222464 , -0.92511562, -1.01574574]])"
      ]
     },
     "execution_count": 263,
     "metadata": {},
     "output_type": "execute_result"
    }
   ],
   "source": [
    "# Experimenting with fish_num to try out StandardScaler\n",
    "\n",
    "from sklearn.preprocessing import StandardScaler\n",
    "\n",
    "std_scaler = StandardScaler()\n",
    "fish_scaled = std_scaler.fit_transform(fish_num.values)\n",
    "fish_scaled[:5]"
   ]
  },
  {
   "cell_type": "markdown",
   "metadata": {},
   "source": [
    "### 3.5 Transformation Pipelines\n",
    "- First, we will build numeric attributes transformation pipeline\n",
    "- Second, we will build categorical attributes transformation\n",
    "- Finally we merge them together"
   ]
  },
  {
   "cell_type": "markdown",
   "metadata": {},
   "source": [
    "#### 3.5.1 Numerical Feature Pipeline"
   ]
  },
  {
   "cell_type": "code",
   "execution_count": 264,
   "metadata": {},
   "outputs": [],
   "source": [
    "from sklearn.pipeline import Pipeline\n",
    "\n",
    "num_pipeline = Pipeline([\n",
    "    ('std_scaler', StandardScaler()),\n",
    "    ('attr_adder', AttributesAdder(attribute_col=3, combine_with_col=(4,)))\n",
    "])"
   ]
  },
  {
   "cell_type": "markdown",
   "metadata": {},
   "source": [
    "#### 3.5.2 Building the whole Pipeline"
   ]
  },
  {
   "cell_type": "code",
   "execution_count": 265,
   "metadata": {},
   "outputs": [],
   "source": [
    "from sklearn.compose import ColumnTransformer\n",
    "\n",
    "full_pipeline = ColumnTransformer([\n",
    "    ('num', num_pipeline, DATASET_NUM_FEATURES),\n",
    "    ('cat', OneHotEncoder(), DATASET_CAT_FEATURES)\n",
    "])"
   ]
  },
  {
   "cell_type": "code",
   "execution_count": 266,
   "metadata": {},
   "outputs": [],
   "source": [
    "fish_train_prepared = full_pipeline.fit_transform(fish_train)"
   ]
  },
  {
   "cell_type": "code",
   "execution_count": 267,
   "metadata": {},
   "outputs": [
    {
     "data": {
      "text/plain": [
       "array([[ 1.5836062 ,  1.54736444,  1.39976048,  0.82518023,  1.95046595,\n",
       "         0.42306826,  0.        ,  0.        ,  1.        ,  0.        ,\n",
       "         0.        ,  0.        ,  0.        ],\n",
       "       [ 0.24811917,  0.26307996,  0.25689772,  0.41286773,  1.3147701 ,\n",
       "         0.31402276,  0.        ,  0.        ,  0.        ,  0.        ,\n",
       "         0.        ,  0.        ,  1.        ],\n",
       "       [-0.10165124, -0.10244716, -0.22383026, -0.15923713,  0.43870521,\n",
       "        -0.36297067,  0.        ,  0.        ,  1.        ,  0.        ,\n",
       "         0.        ,  0.        ,  0.        ],\n",
       "       [ 3.48084572,  3.46391206,  3.34081311,  0.42893676,  1.87925916,\n",
       "         0.2282478 ,  0.        ,  0.        ,  0.        ,  1.        ,\n",
       "         0.        ,  0.        ,  0.        ],\n",
       "       [-0.84358848, -0.8236223 , -0.9222464 , -0.92511562, -1.01574574,\n",
       "         0.9107748 ,  0.        ,  0.        ,  1.        ,  0.        ,\n",
       "         0.        ,  0.        ,  0.        ],\n",
       "       [-0.61040821, -0.62604007, -0.58664384, -0.75438214, -0.41165636,\n",
       "         1.83255312,  0.        ,  0.        ,  0.        ,  0.        ,\n",
       "         1.        ,  0.        ,  0.        ],\n",
       "       [-0.08045304, -0.08268894, -0.20568959, -0.45968079, -0.05463855,\n",
       "         8.41312247,  0.        ,  0.        ,  1.        ,  0.        ,\n",
       "         0.        ,  0.        ,  0.        ],\n",
       "       [ 1.255034  ,  1.2509911 ,  1.39069014,  2.03855768,  1.19701449,\n",
       "         1.7030351 ,  1.        ,  0.        ,  0.        ,  0.        ,\n",
       "         0.        ,  0.        ,  0.        ],\n",
       "       [ 0.3541102 ,  0.36187107,  0.55621892,  1.16170833,  0.3990434 ,\n",
       "         2.91123302,  1.        ,  0.        ,  0.        ,  0.        ,\n",
       "         0.        ,  0.        ,  0.        ],\n",
       "       [ 0.07853351,  0.0358604 , -0.09684551, -0.33358614,  0.13008097,\n",
       "        -2.56445005,  0.        ,  0.        ,  1.        ,  0.        ,\n",
       "         0.        ,  0.        ,  0.        ]])"
      ]
     },
     "execution_count": 267,
     "metadata": {},
     "output_type": "execute_result"
    }
   ],
   "source": [
    "fish_prepared[:10]"
   ]
  },
  {
   "cell_type": "markdown",
   "metadata": {},
   "source": [
    "## 4. Select and Train a Model"
   ]
  },
  {
   "cell_type": "markdown",
   "metadata": {},
   "source": [
    "### 4.1 Training and Evaluating on the Training Set"
   ]
  },
  {
   "cell_type": "markdown",
   "metadata": {},
   "source": [
    "#### Linear Regression Model"
   ]
  },
  {
   "cell_type": "code",
   "execution_count": 268,
   "metadata": {},
   "outputs": [
    {
     "data": {
      "text/html": [
       "<div>\n",
       "<style scoped>\n",
       "    .dataframe tbody tr th:only-of-type {\n",
       "        vertical-align: middle;\n",
       "    }\n",
       "\n",
       "    .dataframe tbody tr th {\n",
       "        vertical-align: top;\n",
       "    }\n",
       "\n",
       "    .dataframe thead th {\n",
       "        text-align: right;\n",
       "    }\n",
       "</style>\n",
       "<table border=\"1\" class=\"dataframe\">\n",
       "  <thead>\n",
       "    <tr style=\"text-align: right;\">\n",
       "      <th></th>\n",
       "      <th>Length1</th>\n",
       "      <th>Length2</th>\n",
       "      <th>Length3</th>\n",
       "      <th>Height</th>\n",
       "      <th>Width</th>\n",
       "      <th>Species</th>\n",
       "    </tr>\n",
       "  </thead>\n",
       "  <tbody>\n",
       "    <tr>\n",
       "      <th>127</th>\n",
       "      <td>41.1</td>\n",
       "      <td>44.0</td>\n",
       "      <td>46.6</td>\n",
       "      <td>12.4888</td>\n",
       "      <td>7.5958</td>\n",
       "      <td>Perch</td>\n",
       "    </tr>\n",
       "    <tr>\n",
       "      <th>58</th>\n",
       "      <td>28.5</td>\n",
       "      <td>31.0</td>\n",
       "      <td>34.0</td>\n",
       "      <td>10.7440</td>\n",
       "      <td>6.5620</td>\n",
       "      <td>Whitefish</td>\n",
       "    </tr>\n",
       "    <tr>\n",
       "      <th>102</th>\n",
       "      <td>25.2</td>\n",
       "      <td>27.3</td>\n",
       "      <td>28.7</td>\n",
       "      <td>8.3230</td>\n",
       "      <td>5.1373</td>\n",
       "      <td>Perch</td>\n",
       "    </tr>\n",
       "    <tr>\n",
       "      <th>144</th>\n",
       "      <td>59.0</td>\n",
       "      <td>63.4</td>\n",
       "      <td>68.0</td>\n",
       "      <td>10.8120</td>\n",
       "      <td>7.4800</td>\n",
       "      <td>Pike</td>\n",
       "    </tr>\n",
       "    <tr>\n",
       "      <th>81</th>\n",
       "      <td>18.2</td>\n",
       "      <td>20.0</td>\n",
       "      <td>21.0</td>\n",
       "      <td>5.0820</td>\n",
       "      <td>2.7720</td>\n",
       "      <td>Perch</td>\n",
       "    </tr>\n",
       "  </tbody>\n",
       "</table>\n",
       "</div>"
      ],
      "text/plain": [
       "     Length1  Length2  Length3   Height   Width    Species\n",
       "127     41.1     44.0     46.6  12.4888  7.5958      Perch\n",
       "58      28.5     31.0     34.0  10.7440  6.5620  Whitefish\n",
       "102     25.2     27.3     28.7   8.3230  5.1373      Perch\n",
       "144     59.0     63.4     68.0  10.8120  7.4800       Pike\n",
       "81      18.2     20.0     21.0   5.0820  2.7720      Perch"
      ]
     },
     "execution_count": 268,
     "metadata": {},
     "output_type": "execute_result"
    }
   ],
   "source": [
    "fish_train.head()"
   ]
  },
  {
   "cell_type": "code",
   "execution_count": 269,
   "metadata": {},
   "outputs": [
    {
     "data": {
      "text/plain": [
       "LinearRegression(copy_X=True, fit_intercept=True, n_jobs=None, normalize=False)"
      ]
     },
     "execution_count": 269,
     "metadata": {},
     "output_type": "execute_result"
    }
   ],
   "source": [
    "## Trying Linear Regression Model\n",
    "from sklearn.linear_model import LinearRegression\n",
    "\n",
    "lin_reg = LinearRegression()\n",
    "lin_reg.fit(fish_prepared, fish_labels)"
   ]
  },
  {
   "cell_type": "code",
   "execution_count": 270,
   "metadata": {},
   "outputs": [
    {
     "name": "stdout",
     "output_type": "stream",
     "text": [
      "Actual values :\n",
      " [[1000.]\n",
      " [ 540.]\n",
      " [ 300.]\n",
      " [1650.]\n",
      " [  85.]\n",
      " [ 150.]\n",
      " [ 265.]\n",
      " [ 950.]\n",
      " [ 340.]\n",
      " [ 300.]]\n",
      "Predicted values :\n",
      " [[1007.78912227]\n",
      " [ 515.75305887]\n",
      " [ 343.16288703]\n",
      " [1477.48761892]\n",
      " [  31.68115317]\n",
      " [ 141.58135946]\n",
      " [ 328.20410474]\n",
      " [ 887.66422916]\n",
      " [ 544.5716632 ]\n",
      " [ 340.24378021]]\n"
     ]
    }
   ],
   "source": [
    "## Making Predictions\n",
    "sample_pred_lr = lin_reg.predict(fish_prepared)\n",
    "\n",
    "print('Actual values :\\n',fish_labels[:10].values)\n",
    "print('Predicted values :\\n',sample_pred[:10])"
   ]
  },
  {
   "cell_type": "code",
   "execution_count": 271,
   "metadata": {},
   "outputs": [
    {
     "name": "stdout",
     "output_type": "stream",
     "text": [
      "RMSE : 79.37879857898103\n"
     ]
    }
   ],
   "source": [
    "## Score of the Model\n",
    "from sklearn.metrics import mean_squared_error as MSE\n",
    "\n",
    "mse_err = MSE(sample_pred_lr, fish_labels)\n",
    "print('RMSE :', mse_err ** 0.5)"
   ]
  },
  {
   "cell_type": "markdown",
   "metadata": {},
   "source": [
    "#### Decision Tree Model"
   ]
  },
  {
   "cell_type": "code",
   "execution_count": 272,
   "metadata": {},
   "outputs": [
    {
     "data": {
      "text/plain": [
       "DecisionTreeRegressor(criterion='mse', max_depth=None, max_features=None,\n",
       "                      max_leaf_nodes=None, min_impurity_decrease=0.0,\n",
       "                      min_impurity_split=None, min_samples_leaf=1,\n",
       "                      min_samples_split=2, min_weight_fraction_leaf=0.0,\n",
       "                      presort=False, random_state=None, splitter='best')"
      ]
     },
     "execution_count": 272,
     "metadata": {},
     "output_type": "execute_result"
    }
   ],
   "source": [
    "from sklearn.tree import DecisionTreeRegressor\n",
    "\n",
    "tree_reg = DecisionTreeRegressor()\n",
    "tree_reg.fit(fish_prepared, fish_labels)"
   ]
  },
  {
   "cell_type": "code",
   "execution_count": 273,
   "metadata": {},
   "outputs": [
    {
     "name": "stdout",
     "output_type": "stream",
     "text": [
      "Actual values :\n",
      " [[1000.]\n",
      " [ 540.]\n",
      " [ 300.]\n",
      " [1650.]\n",
      " [  85.]\n",
      " [ 150.]\n",
      " [ 265.]\n",
      " [ 950.]\n",
      " [ 340.]\n",
      " [ 300.]]\n",
      "Predicted values :\n",
      " [1000.  540.  300. 1650.   85.  150.  265.  950.  340.  300.]\n"
     ]
    }
   ],
   "source": [
    "## Making Predictions\n",
    "sample_pred_dt = tree_reg.predict(fish_prepared)\n",
    "\n",
    "print('Actual values :\\n',fish_labels[:10].values)\n",
    "print('Predicted values :\\n',sample_pred_dt[:10])"
   ]
  },
  {
   "cell_type": "code",
   "execution_count": 274,
   "metadata": {},
   "outputs": [
    {
     "name": "stdout",
     "output_type": "stream",
     "text": [
      "RMSE : 0.0\n"
     ]
    }
   ],
   "source": [
    "## Score of the Model\n",
    "from sklearn.metrics import mean_squared_error as MSE\n",
    "\n",
    "mse_err = MSE(sample_pred_dt, fish_labels)\n",
    "print('RMSE :', mse_err ** 0.5)"
   ]
  },
  {
   "cell_type": "markdown",
   "metadata": {},
   "source": [
    "#### Observations:\n",
    "- The Tree model has badly overfit the data\n",
    "- Use cross-validation for model tuning."
   ]
  },
  {
   "cell_type": "markdown",
   "metadata": {},
   "source": [
    "#### Random Forest Model"
   ]
  },
  {
   "cell_type": "code",
   "execution_count": 275,
   "metadata": {},
   "outputs": [
    {
     "name": "stderr",
     "output_type": "stream",
     "text": [
      "/home/prakhar/.local/lib/python3.6/site-packages/sklearn/ensemble/forest.py:245: FutureWarning: The default value of n_estimators will change from 10 in version 0.20 to 100 in 0.22.\n",
      "  \"10 in version 0.20 to 100 in 0.22.\", FutureWarning)\n"
     ]
    },
    {
     "data": {
      "text/plain": [
       "RandomForestRegressor(bootstrap=True, criterion='mse', max_depth=None,\n",
       "                      max_features='auto', max_leaf_nodes=None,\n",
       "                      min_impurity_decrease=0.0, min_impurity_split=None,\n",
       "                      min_samples_leaf=1, min_samples_split=2,\n",
       "                      min_weight_fraction_leaf=0.0, n_estimators=10,\n",
       "                      n_jobs=None, oob_score=False, random_state=None,\n",
       "                      verbose=0, warm_start=False)"
      ]
     },
     "execution_count": 275,
     "metadata": {},
     "output_type": "execute_result"
    }
   ],
   "source": [
    "from sklearn.ensemble import RandomForestRegressor\n",
    "\n",
    "rf_reg = RandomForestRegressor()\n",
    "rf_reg.fit(fish_prepared, np.ravel(fish_labels))"
   ]
  },
  {
   "cell_type": "code",
   "execution_count": 276,
   "metadata": {},
   "outputs": [
    {
     "name": "stdout",
     "output_type": "stream",
     "text": [
      "Actual values :\n",
      " [[1000.]\n",
      " [ 540.]\n",
      " [ 300.]\n",
      " [1650.]\n",
      " [  85.]\n",
      " [ 150.]\n",
      " [ 265.]\n",
      " [ 950.]\n",
      " [ 340.]\n",
      " [ 300.]]\n",
      "Predicted values :\n",
      " [1020.   565.   335.  1540.    76.5  147.   275.   947.5  388.   292.2]\n"
     ]
    }
   ],
   "source": [
    "## Making Predictions\n",
    "sample_pred_rf = rf_reg.predict(fish_prepared)\n",
    "\n",
    "print('Actual values :\\n',fish_labels[:10].values)\n",
    "print('Predicted values :\\n',sample_pred_rf[:10])"
   ]
  },
  {
   "cell_type": "code",
   "execution_count": 277,
   "metadata": {},
   "outputs": [
    {
     "name": "stdout",
     "output_type": "stream",
     "text": [
      "RMSE : 29.224435641816548\n"
     ]
    }
   ],
   "source": [
    "## Score of the Model\n",
    "from sklearn.metrics import mean_squared_error as MSE\n",
    "\n",
    "mse_err = MSE(sample_pred_rf, fish_labels)\n",
    "print('RMSE :', mse_err ** 0.5)"
   ]
  },
  {
   "cell_type": "markdown",
   "metadata": {},
   "source": [
    "#### Observations\n",
    "- Promising model"
   ]
  },
  {
   "cell_type": "markdown",
   "metadata": {},
   "source": [
    "### 4.2 Better Evaluation Using Cross-Validation"
   ]
  },
  {
   "cell_type": "code",
   "execution_count": 278,
   "metadata": {},
   "outputs": [],
   "source": [
    "def display_scores(model_name ,scores):\n",
    "    print('------', model_name, '-------')\n",
    "    print('Scores:\\n', scores)\n",
    "    print('Mean:', scores.mean())\n",
    "    print('Standard Deviation:', scores.std())"
   ]
  },
  {
   "cell_type": "code",
   "execution_count": 279,
   "metadata": {},
   "outputs": [],
   "source": [
    "### Models used until now\n",
    "model_names = ['Linear Regression', 'Decision Tree Regressor', 'Random Forest Regressor']\n",
    "models = [lin_reg, tree_reg, rf_reg]"
   ]
  },
  {
   "cell_type": "code",
   "execution_count": 280,
   "metadata": {},
   "outputs": [
    {
     "name": "stdout",
     "output_type": "stream",
     "text": [
      "------ Linear Regression -------\n",
      "Scores:\n",
      " [ 99.67686854  61.79264783 110.91896839  89.55957481 101.91316479\n",
      "  62.90149051  80.51636978  61.23479649 155.54216946  77.41625847]\n",
      "Mean: 90.1472309071846\n",
      "Standard Deviation: 27.522049997433804\n",
      "\n",
      "\n",
      "------ Decision Tree Regressor -------\n",
      "Scores:\n",
      " [ 68.1485933   49.91300124 113.68690473  81.18639522  85.16518339\n",
      "  70.58167119  73.17313504  50.86404264 134.64733256  30.57811036]\n",
      "Mean: 75.79443696781124\n",
      "Standard Deviation: 29.059902065661266\n",
      "\n",
      "\n",
      "------ Random Forest Regressor -------\n",
      "Scores:\n",
      " [135.41673286  46.08480477  47.11956722  75.87695505  56.75800486\n",
      "  47.10919688  74.61000655  25.68136906 135.63331474  29.49542182]\n",
      "Mean: 67.3785373805084\n",
      "Standard Deviation: 37.38141652169642\n",
      "\n",
      "\n"
     ]
    }
   ],
   "source": [
    "# Performing 5-CV score\n",
    "from sklearn.model_selection import cross_val_score\n",
    "\n",
    "\n",
    "for model_name, model in zip(model_names, models):\n",
    "    scores = cross_val_score(model, fish_prepared, np.ravel(fish_labels),\n",
    "                            scoring = 'neg_mean_squared_error', cv=10)\n",
    "    display_scores(model_name, (-scores) ** 0.5)\n",
    "    print('\\n')"
   ]
  },
  {
   "cell_type": "markdown",
   "metadata": {},
   "source": [
    "## 5. Fine tuning the model"
   ]
  },
  {
   "cell_type": "markdown",
   "metadata": {},
   "source": [
    "### 5.1 Grid Search : Random Forest"
   ]
  },
  {
   "cell_type": "code",
   "execution_count": 281,
   "metadata": {},
   "outputs": [
    {
     "name": "stderr",
     "output_type": "stream",
     "text": [
      "/home/prakhar/.local/lib/python3.6/site-packages/sklearn/model_selection/_search.py:814: DeprecationWarning: The default of the `iid` parameter will change from True to False in version 0.22 and will be removed in 0.24. This will change numeric results when test-set sizes are unequal.\n",
      "  DeprecationWarning)\n"
     ]
    },
    {
     "data": {
      "text/plain": [
       "GridSearchCV(cv=5, error_score='raise-deprecating',\n",
       "             estimator=RandomForestRegressor(bootstrap=True, criterion='mse',\n",
       "                                             max_depth=None,\n",
       "                                             max_features='auto',\n",
       "                                             max_leaf_nodes=None,\n",
       "                                             min_impurity_decrease=0.0,\n",
       "                                             min_impurity_split=None,\n",
       "                                             min_samples_leaf=1,\n",
       "                                             min_samples_split=2,\n",
       "                                             min_weight_fraction_leaf=0.0,\n",
       "                                             n_estimators='warn', n_jobs=None,\n",
       "                                             oob_score=False, random_state=None,\n",
       "                                             verbose=0, warm_start=False),\n",
       "             iid='warn', n_jobs=None,\n",
       "             param_grid=[{'bootstrap': [True, False],\n",
       "                          'max_features': [2, 3, 4, 6, 8],\n",
       "                          'n_estimators': [3, 10, 30, 40]}],\n",
       "             pre_dispatch='2*n_jobs', refit=True, return_train_score=True,\n",
       "             scoring='neg_mean_squared_error', verbose=0)"
      ]
     },
     "execution_count": 281,
     "metadata": {},
     "output_type": "execute_result"
    }
   ],
   "source": [
    "# Using GridSearchCV to tune the Random Forest model\n",
    "from sklearn.model_selection import GridSearchCV\n",
    "\n",
    "param_grid = [\n",
    "    {'bootstrap':[True,False], 'n_estimators':[3,10,30, 40], 'max_features':[2,3,4, 6,8]}\n",
    "]\n",
    "\n",
    "forest_reg = RandomForestRegressor()\n",
    "grid_search = GridSearchCV(forest_reg, param_grid, cv=5,\n",
    "                          scoring='neg_mean_squared_error',\n",
    "                          return_train_score=True)\n",
    "grid_search.fit(fish_prepared, np.ravel(fish_labels))"
   ]
  },
  {
   "cell_type": "code",
   "execution_count": 282,
   "metadata": {},
   "outputs": [
    {
     "data": {
      "text/plain": [
       "63.87893010442558"
      ]
     },
     "execution_count": 282,
     "metadata": {},
     "output_type": "execute_result"
    }
   ],
   "source": [
    "# Best score\n",
    "np.sqrt(-grid_search.best_score_)"
   ]
  },
  {
   "cell_type": "code",
   "execution_count": 283,
   "metadata": {},
   "outputs": [
    {
     "data": {
      "text/plain": [
       "RandomForestRegressor(bootstrap=False, criterion='mse', max_depth=None,\n",
       "                      max_features=4, max_leaf_nodes=None,\n",
       "                      min_impurity_decrease=0.0, min_impurity_split=None,\n",
       "                      min_samples_leaf=1, min_samples_split=2,\n",
       "                      min_weight_fraction_leaf=0.0, n_estimators=30,\n",
       "                      n_jobs=None, oob_score=False, random_state=None,\n",
       "                      verbose=0, warm_start=False)"
      ]
     },
     "execution_count": 283,
     "metadata": {},
     "output_type": "execute_result"
    }
   ],
   "source": [
    "# Best estimator\n",
    "grid_search.best_estimator_"
   ]
  },
  {
   "cell_type": "code",
   "execution_count": 284,
   "metadata": {},
   "outputs": [
    {
     "data": {
      "text/plain": [
       "{'bootstrap': False, 'max_features': 4, 'n_estimators': 30}"
      ]
     },
     "execution_count": 284,
     "metadata": {},
     "output_type": "execute_result"
    }
   ],
   "source": [
    "# Best selection of parameters\n",
    "grid_search.best_params_"
   ]
  },
  {
   "cell_type": "code",
   "execution_count": 285,
   "metadata": {},
   "outputs": [
    {
     "name": "stdout",
     "output_type": "stream",
     "text": [
      "108.35232763022279 {'bootstrap': True, 'max_features': 2, 'n_estimators': 3}\n",
      "72.45174242428514 {'bootstrap': True, 'max_features': 2, 'n_estimators': 10}\n",
      "81.85980167393663 {'bootstrap': True, 'max_features': 2, 'n_estimators': 30}\n",
      "77.67940916560146 {'bootstrap': True, 'max_features': 2, 'n_estimators': 40}\n",
      "134.87289308025913 {'bootstrap': True, 'max_features': 3, 'n_estimators': 3}\n",
      "74.07429037451651 {'bootstrap': True, 'max_features': 3, 'n_estimators': 10}\n",
      "77.6068965691878 {'bootstrap': True, 'max_features': 3, 'n_estimators': 30}\n",
      "76.32877239111245 {'bootstrap': True, 'max_features': 3, 'n_estimators': 40}\n",
      "114.77169208296553 {'bootstrap': True, 'max_features': 4, 'n_estimators': 3}\n",
      "76.09174054219129 {'bootstrap': True, 'max_features': 4, 'n_estimators': 10}\n",
      "76.30037506343365 {'bootstrap': True, 'max_features': 4, 'n_estimators': 30}\n",
      "87.11512182220963 {'bootstrap': True, 'max_features': 4, 'n_estimators': 40}\n",
      "90.33112766190797 {'bootstrap': True, 'max_features': 6, 'n_estimators': 3}\n",
      "83.28128838626111 {'bootstrap': True, 'max_features': 6, 'n_estimators': 10}\n",
      "81.92124653559513 {'bootstrap': True, 'max_features': 6, 'n_estimators': 30}\n",
      "75.95595047362886 {'bootstrap': True, 'max_features': 6, 'n_estimators': 40}\n",
      "101.24083622918644 {'bootstrap': True, 'max_features': 8, 'n_estimators': 3}\n",
      "82.56940650954556 {'bootstrap': True, 'max_features': 8, 'n_estimators': 10}\n",
      "73.63826214242212 {'bootstrap': True, 'max_features': 8, 'n_estimators': 30}\n",
      "66.4453197722445 {'bootstrap': True, 'max_features': 8, 'n_estimators': 40}\n",
      "96.22216832954994 {'bootstrap': False, 'max_features': 2, 'n_estimators': 3}\n",
      "87.25689671995475 {'bootstrap': False, 'max_features': 2, 'n_estimators': 10}\n",
      "68.73276620965538 {'bootstrap': False, 'max_features': 2, 'n_estimators': 30}\n",
      "71.97156433607847 {'bootstrap': False, 'max_features': 2, 'n_estimators': 40}\n",
      "92.86513057084724 {'bootstrap': False, 'max_features': 3, 'n_estimators': 3}\n",
      "74.67193647976323 {'bootstrap': False, 'max_features': 3, 'n_estimators': 10}\n",
      "70.9300031847844 {'bootstrap': False, 'max_features': 3, 'n_estimators': 30}\n",
      "67.0560211886858 {'bootstrap': False, 'max_features': 3, 'n_estimators': 40}\n",
      "64.7186581049981 {'bootstrap': False, 'max_features': 4, 'n_estimators': 3}\n",
      "67.94480858883354 {'bootstrap': False, 'max_features': 4, 'n_estimators': 10}\n",
      "63.87893010442558 {'bootstrap': False, 'max_features': 4, 'n_estimators': 30}\n",
      "65.77515522544286 {'bootstrap': False, 'max_features': 4, 'n_estimators': 40}\n",
      "84.29038203696201 {'bootstrap': False, 'max_features': 6, 'n_estimators': 3}\n",
      "65.8902309978109 {'bootstrap': False, 'max_features': 6, 'n_estimators': 10}\n",
      "68.92050040275048 {'bootstrap': False, 'max_features': 6, 'n_estimators': 30}\n",
      "66.25416022853646 {'bootstrap': False, 'max_features': 6, 'n_estimators': 40}\n",
      "65.16399340698364 {'bootstrap': False, 'max_features': 8, 'n_estimators': 3}\n",
      "71.5842211257008 {'bootstrap': False, 'max_features': 8, 'n_estimators': 10}\n",
      "67.68036927510332 {'bootstrap': False, 'max_features': 8, 'n_estimators': 30}\n",
      "65.22414973920898 {'bootstrap': False, 'max_features': 8, 'n_estimators': 40}\n"
     ]
    }
   ],
   "source": [
    "# Looking at the cv scores\n",
    "\n",
    "cvres = grid_search.cv_results_\n",
    "for mean_score, params in zip(cvres['mean_test_score'], cvres['params']):\n",
    "    print(np.sqrt(-mean_score), params)"
   ]
  },
  {
   "cell_type": "markdown",
   "metadata": {},
   "source": [
    "### 5.2 Analyze the Best Models and Their Errors"
   ]
  },
  {
   "cell_type": "code",
   "execution_count": 286,
   "metadata": {},
   "outputs": [
    {
     "data": {
      "text/plain": [
       "array([1.03209841e-01, 1.48207294e-01, 2.99994136e-01, 1.02397114e-01,\n",
       "       3.13135386e-01, 1.27849739e-02, 6.42050372e-03, 1.20146545e-03,\n",
       "       5.75503675e-04, 1.08043259e-02, 2.41912365e-04, 5.74070144e-04,\n",
       "       4.53473450e-04])"
      ]
     },
     "execution_count": 286,
     "metadata": {},
     "output_type": "execute_result"
    }
   ],
   "source": [
    "feature_importances = grid_search.best_estimator_.feature_importances_\n",
    "feature_importances"
   ]
  },
  {
   "cell_type": "code",
   "execution_count": 287,
   "metadata": {},
   "outputs": [
    {
     "data": {
      "text/plain": [
       "[(0.31313538649108064, 'Width'),\n",
       " (0.2999941359473767, 'Length3'),\n",
       " (0.14820729385499062, 'Length2'),\n",
       " (0.1032098408036845, 'Length1'),\n",
       " (0.10239711429261217, 'Height'),\n",
       " (0.012784973896192308, 'Height*Width'),\n",
       " (0.010804325915858322, 'Pike'),\n",
       " (0.006420503716876232, 'Bream'),\n",
       " (0.0012014654474705687, 'Parkki'),\n",
       " (0.0005755036747445054, 'Perch'),\n",
       " (0.0005740701442424407, 'Smelt'),\n",
       " (0.0004534734502584399, 'Whitefish'),\n",
       " (0.00024191236461254024, 'Roach')]"
      ]
     },
     "execution_count": 287,
     "metadata": {},
     "output_type": "execute_result"
    }
   ],
   "source": [
    "extra_attributes = ['Height*Width']\n",
    "cat_encoder = full_pipeline.named_transformers_['cat']\n",
    "cat_one_hot_attribs = list(cat_encoder.categories_[0])\n",
    "all_features = DATASET_NUM_FEATURES + extra_attributes + cat_one_hot_attribs\n",
    "\n",
    "# Printing Feature importances along with Feature name\n",
    "sorted(zip(feature_importances, all_features), reverse=True)"
   ]
  },
  {
   "cell_type": "markdown",
   "metadata": {},
   "source": [
    "### 4.5 Evaluate your system on the Test Set"
   ]
  },
  {
   "cell_type": "code",
   "execution_count": 288,
   "metadata": {},
   "outputs": [
    {
     "name": "stdout",
     "output_type": "stream",
     "text": [
      "RMSE : 114.4810533875463\n"
     ]
    }
   ],
   "source": [
    "final_model = grid_search.best_estimator_\n",
    "\n",
    "X_test = test_set.drop('Weight', axis=1)\n",
    "y_test = test_set['Weight']\n",
    "\n",
    "X_test_prepared = full_pipeline.fit_transform(X_test)\n",
    "y_pred = final_model.predict(X_test_prepared)\n",
    "\n",
    "print('RMSE :', MSE(y_test, y_pred) ** 0.5)"
   ]
  },
  {
   "cell_type": "code",
   "execution_count": 289,
   "metadata": {},
   "outputs": [
    {
     "name": "stdout",
     "output_type": "stream",
     "text": [
      "Actual :\n",
      " [ 700.   140.   250.    60.  1000.    32.   290.     5.9  430.    13.4]\n",
      "Predictions: \n",
      " [609.1        175.7        294.8         82.55       906.\n",
      "  51.75       281.4         24.03666667 380.56666667  23.83333333]\n"
     ]
    }
   ],
   "source": [
    "##\n",
    "print('Actual :\\n', y_test[:10].values)\n",
    "print('Predictions: \\n', y_pred[:10])"
   ]
  },
  {
   "cell_type": "markdown",
   "metadata": {},
   "source": [
    "### 4.6 Calculating Confidence Interval"
   ]
  },
  {
   "cell_type": "code",
   "execution_count": 290,
   "metadata": {},
   "outputs": [
    {
     "data": {
      "text/plain": [
       "array([ 65.44330862, 148.08442365])"
      ]
     },
     "execution_count": 290,
     "metadata": {},
     "output_type": "execute_result"
    }
   ],
   "source": [
    "from scipy import stats\n",
    "confidence= 0.95\n",
    "squared_errors = (y_pred - y_test)**2\n",
    "\n",
    "np.sqrt(stats.t.interval(confidence, len(squared_errors) - 1,\n",
    "                        loc= squared_errors.mean(),\n",
    "                        scale= stats.sem(squared_errors)))"
   ]
  },
  {
   "cell_type": "code",
   "execution_count": null,
   "metadata": {},
   "outputs": [],
   "source": []
  }
 ],
 "metadata": {
  "kernelspec": {
   "display_name": "Python 3",
   "language": "python",
   "name": "python3"
  },
  "language_info": {
   "codemirror_mode": {
    "name": "ipython",
    "version": 3
   },
   "file_extension": ".py",
   "mimetype": "text/x-python",
   "name": "python",
   "nbconvert_exporter": "python",
   "pygments_lexer": "ipython3",
   "version": "3.6.9"
  }
 },
 "nbformat": 4,
 "nbformat_minor": 2
}
